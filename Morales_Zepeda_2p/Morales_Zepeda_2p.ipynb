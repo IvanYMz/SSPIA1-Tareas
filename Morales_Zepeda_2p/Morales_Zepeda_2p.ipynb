{
  "nbformat": 4,
  "nbformat_minor": 0,
  "metadata": {
    "colab": {
      "provenance": []
    },
    "kernelspec": {
      "name": "python3",
      "display_name": "Python 3"
    },
    "language_info": {
      "name": "python"
    }
  },
  "cells": [
    {
      "cell_type": "code",
      "execution_count": 37,
      "metadata": {
        "id": "8bkDBipLigMZ"
      },
      "outputs": [],
      "source": [
        "import copy\n",
        "import numpy as np\n",
        "\n",
        "class Individuo:\n",
        "    def __init__(self, alelos, longitud_gen, cromosoma):\n",
        "        self._alelos = alelos\n",
        "        self._longitud_gen = longitud_gen\n",
        "        self._cromosoma = cromosoma\n",
        "        self._fitness = 0"
      ]
    },
    {
      "cell_type": "code",
      "source": [
        "class AG:\n",
        "    def __init__(self, cantidad_individuos, alelos, tamano_gen, generaciones, p, problema):\n",
        "        self._cantidad_individuos = cantidad_individuos\n",
        "        self._alelos = alelos\n",
        "        self._tamano_gen = tamano_gen\n",
        "        self._generaciones = generaciones\n",
        "        self._p = p\n",
        "        self._problema = problema\n",
        "        self._individuos = np.array([])\n",
        "\n",
        "    def run(self):\n",
        "        self.crearIndividuos()\n",
        "        self._mejor_historico = self._individuos[0]\n",
        "        generacion = 1\n",
        "        while generacion <= self._generaciones:\n",
        "            self.evaluaIndividuos()\n",
        "            hijos = np.array([])\n",
        "            while len(hijos) < len(self._individuos):\n",
        "                padre1 = self.ruleta()\n",
        "                padre2 = self.ruleta()\n",
        "                while padre1 == padre2:\n",
        "                    padre2 = self.ruleta()\n",
        "                h1, h2 = self.cruza(self._individuos[padre1], self._individuos[padre2])\n",
        "                hijos = np.append(hijos, [h1])\n",
        "                hijos = np.append(hijos, [h2])\n",
        "            self.mutacion(hijos)\n",
        "            self._individuos = np.copy(hijos)\n",
        "            self._individuos[np.random.randint(len(self._individuos))] = copy.deepcopy(self._mejor_historico)\n",
        "            if generacion % 200 == 0:\n",
        "                print(f\"Generación: {generacion}\\nMejor Histórico: {self._mejor_historico._cromosoma}, Total = {self._mejor_historico._fitness}\")\n",
        "                # Imprimir los tamaños seleccionados\n",
        "                print(\"Tamaños seleccionados: \", [self._problema._tamanos[i] for i in range(len(self._mejor_historico._cromosoma)) if self._mejor_historico._cromosoma[i]==1], '\\n')\n",
        "            generacion += 1\n",
        "\n",
        "    def crearIndividuos(self):\n",
        "        for i in range(self._cantidad_individuos):\n",
        "            cromosoma = np.random.randint(2, size = self._alelos)\n",
        "            individuo = Individuo(self._alelos, self._tamano_gen, cromosoma)\n",
        "            self._individuos = np.append(self._individuos, [individuo])\n",
        "\n",
        "    def evaluaIndividuos(self):\n",
        "        for i in self._individuos:\n",
        "            i._fitness = self._problema.f(self._tamano_gen, i._cromosoma)\n",
        "            if i._fitness > self._mejor_historico._fitness:\n",
        "                self._mejor_historico = copy.deepcopy(i)\n",
        "\n",
        "    def ruleta(self):\n",
        "        f_sum = np.sum([i._fitness for i in self._individuos])\n",
        "        if f_sum < 0:\n",
        "            f_sum *= -1\n",
        "        if f_sum == 0:\n",
        "            return np.random.randint(len(self._individuos))\n",
        "        else:\n",
        "            r = np.random.randint(f_sum + 1)\n",
        "            k = 0\n",
        "            F = self._individuos[k]._fitness\n",
        "            if F < 0:\n",
        "                F *= -1\n",
        "            while F < r and k < len(self._individuos):\n",
        "                k += 1\n",
        "                if self._individuos[k]._fitness < 0:\n",
        "                    F += self._individuos[k]._fitness * -1\n",
        "                else:\n",
        "                    F += self._individuos[k]._fitness\n",
        "            return k\n",
        "\n",
        "    def cruza(self, i1, i2):\n",
        "        h1 = copy.deepcopy(i1)\n",
        "        h2 = copy.deepcopy(i2)\n",
        "\n",
        "        s = self._alelos - 1\n",
        "        punto_cruza = np.random.randint(s) + 1\n",
        "        h1._cromosoma[punto_cruza:], h2._cromosoma[punto_cruza:] = h2._cromosoma[punto_cruza:], h1._cromosoma[punto_cruza:]\n",
        "        return h1, h2\n",
        "\n",
        "    def mutacion(self, hijos):\n",
        "        for h in hijos:\n",
        "            for bit in range(len(h._cromosoma)):\n",
        "                if np.random.rand() < self._p:\n",
        "                    h._cromosoma[bit] = int(not h._cromosoma[bit])"
      ],
      "metadata": {
        "id": "b8HMIOOUi_LJ"
      },
      "execution_count": 38,
      "outputs": []
    },
    {
      "cell_type": "code",
      "source": [
        "class pesosSuma:\n",
        "    def __init__(self, tamanos, limite):\n",
        "        self._tamanos = tamanos # Arreglo con los tamaños\n",
        "        self._limite = limite\n",
        "\n",
        "    def f(self, tamano_gen, cromosoma):\n",
        "        f = 0\n",
        "        suma_tamanos = 0\n",
        "        for i in range(len(cromosoma)):\n",
        "            if cromosoma[i]:\n",
        "                f = f + self._tamanos[i] # Sumar los tamaños en las posiciones tomadas\n",
        "                suma_tamanos = suma_tamanos + self._tamanos[i] # Aumentar peso\n",
        "        if suma_tamanos <= self._limite: # Si llega al límite, retorna el acumulado\n",
        "            return f\n",
        "        else:\n",
        "            return 0 # Si pasa el límite, retorna 0 para penalizar"
      ],
      "metadata": {
        "id": "OVFPPtTFjBJp"
      },
      "execution_count": 39,
      "outputs": []
    },
    {
      "cell_type": "code",
      "source": [
        "def main():\n",
        "    tamanos = [13, 8, 25, 4, 18, 6, 33, 22, 45, 11, 76, 10, 1]\n",
        "    limite = 211\n",
        "    problema = pesosSuma(tamanos, limite)\n",
        "    alelos = len(tamanos)\n",
        "    individuos = 32\n",
        "    tamano_gen = 1 #cada bit representa a un objeto\n",
        "    generaciones = 2000\n",
        "    factor_mutacion = 0.01\n",
        "    ag = AG(individuos, alelos, tamano_gen, generaciones, factor_mutacion, problema)\n",
        "    ag.run()\n"
      ],
      "metadata": {
        "id": "w2sMBWTkjeoN"
      },
      "execution_count": 40,
      "outputs": []
    },
    {
      "cell_type": "code",
      "source": [
        "main()"
      ],
      "metadata": {
        "id": "wZQDHWQxlbtH"
      },
      "execution_count": null,
      "outputs": []
    }
  ]
}