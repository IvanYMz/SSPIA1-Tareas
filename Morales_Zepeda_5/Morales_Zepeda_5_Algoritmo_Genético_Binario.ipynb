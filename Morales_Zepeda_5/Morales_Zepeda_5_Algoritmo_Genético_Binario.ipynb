{
  "nbformat": 4,
  "nbformat_minor": 0,
  "metadata": {
    "colab": {
      "provenance": []
    },
    "kernelspec": {
      "name": "python3",
      "display_name": "Python 3"
    },
    "language_info": {
      "name": "python"
    }
  },
  "cells": [
    {
      "cell_type": "code",
      "execution_count": 27,
      "metadata": {
        "id": "M1LHztqGpDWw"
      },
      "outputs": [],
      "source": [
        "import copy\n",
        "import numpy as np\n",
        "\n",
        "class Individuo:\n",
        "    def __init__(self, alelos, longitud_gen, cromosoma):\n",
        "        self._alelos = alelos\n",
        "        self._longitud_gen = longitud_gen\n",
        "        self._cromosoma = cromosoma\n",
        "        self._fitness = 0"
      ]
    },
    {
      "cell_type": "code",
      "source": [
        "class AG:\n",
        "    def __init__(self, cantidad_individuos, alelos, tamano_gen, generaciones, p, problema):\n",
        "        self._cantidad_individuos = cantidad_individuos\n",
        "        self._alelos = alelos\n",
        "        self._tamano_gen = tamano_gen\n",
        "        self._generaciones = generaciones\n",
        "        self._p = p\n",
        "        self._problema = problema\n",
        "        self._individuos = np.array([])\n",
        "\n",
        "    def run(self):\n",
        "        self.crearIndividuos()\n",
        "        self._mejor_historico = self._individuos[0]\n",
        "        generacion = 1\n",
        "        while generacion <= self._generaciones:\n",
        "            self.evaluaIndividuos()\n",
        "            hijos = np.array([])\n",
        "            while len(hijos) < len(self._individuos):\n",
        "                padre1 = self.ruleta()\n",
        "                padre2 = self.ruleta()\n",
        "                while padre1 == padre2:\n",
        "                    padre2 = self.ruleta()\n",
        "                h1, h2 = self.cruza(self._individuos[padre1], self._individuos[padre2])\n",
        "                hijos = np.append(hijos, [h1])\n",
        "                hijos = np.append(hijos, [h2])\n",
        "            self.mutacion(hijos)\n",
        "            self._individuos = np.copy(hijos)\n",
        "            self._individuos[np.random.randint(len(self._individuos))] = copy.deepcopy(self._mejor_historico)\n",
        "            if generacion % 200 == 0:\n",
        "                print(\"Generación: \", generacion, 'Mejor Histórico: ', self._mejor_historico._cromosoma, self._mejor_historico._fitness)\n",
        "            generacion += 1\n",
        "\n",
        "    def crearIndividuos(self):\n",
        "        for i in range(self._cantidad_individuos):\n",
        "            cromosoma = np.random.randint(2, size = self._alelos)\n",
        "            individuo = Individuo(self._alelos, self._tamano_gen, cromosoma)\n",
        "            self._individuos = np.append(self._individuos, [individuo])\n",
        "\n",
        "    def evaluaIndividuos(self):\n",
        "        for i in self._individuos:\n",
        "            i._fitness = self._problema.f(i._cromosoma)\n",
        "            if i._fitness > self._mejor_historico._fitness:\n",
        "                self._mejor_historico = copy.deepcopy(i)\n",
        "\n",
        "    def ruleta(self):\n",
        "        f_sum = np.sum([i._fitness for i in self._individuos])\n",
        "        if f_sum < 0:\n",
        "            f_sum *= -1\n",
        "        if f_sum == 0:\n",
        "            return np.random.randint(len(self._individuos))\n",
        "        else:\n",
        "            r = np.random.randint(f_sum + 1)\n",
        "            k = 0\n",
        "            F = self._individuos[k]._fitness\n",
        "            if F < 0:\n",
        "                F *= -1\n",
        "            while F < r and k < len(self._individuos):\n",
        "                k += 1\n",
        "                if self._individuos[k]._fitness < 0:\n",
        "                    F += self._individuos[k]._fitness * -1\n",
        "                else:\n",
        "                    F += self._individuos[k]._fitness\n",
        "            return k\n",
        "\n",
        "    def cruza(self, i1, i2):\n",
        "        h1 = copy.deepcopy(i1)\n",
        "        h2 = copy.deepcopy(i2)\n",
        "\n",
        "        s = self._alelos - 1\n",
        "        punto_cruza = np.random.randint(s) + 1\n",
        "        h1._cromosoma[punto_cruza:], h2._cromosoma[punto_cruza:] = h2._cromosoma[punto_cruza:], h1._cromosoma[punto_cruza:]\n",
        "        return h1, h2\n",
        "\n",
        "    def mutacion(self, hijos):\n",
        "        for h in hijos:\n",
        "            for bit in range(len(h._cromosoma)):\n",
        "                if np.random.rand() < self._p:\n",
        "                    h._cromosoma[bit] = int(not h._cromosoma[bit])"
      ],
      "metadata": {
        "id": "-nLuCRpSsszQ"
      },
      "execution_count": 28,
      "outputs": []
    },
    {
      "cell_type": "code",
      "source": [
        "class Monedas:\n",
        "    def __init__(self, monedas):\n",
        "        self._monedas = monedas\n",
        "\n",
        "    def f(self, cromosoma):\n",
        "        valorTotal = 0 #Para retornar la cantidad total obtenida\n",
        "        penalizacion = 0 #La cantidad que penalizaremos si se toman monedas adyacentes\n",
        "        adyacenteTomada = False #Para si agarró una moneda con monedas adyacentes tomadas\n",
        "\n",
        "        for i, gen in enumerate(cromosoma): #Recorre el arreglo de monedas tomadas\n",
        "            if gen: #Si la moneda está tomada\n",
        "              valorTotal += self._monedas[i] #Suma su vlaor\n",
        "              penalizacion += self._monedas[i] if adyacenteTomada else 0 #Si hay una adyacente tomada, suma a la penalización, caso contrario, no aumenta.\n",
        "              adyacenteTomada = True #Se define como tomada porque la siguiente es adyacnete.\n",
        "            else:\n",
        "              adyacenteTomada = False #No hay adyacencia. Se la moneda de la siguiente vuelta...\n",
        "        return valorTotal - (penalizacion + (penalizacion * .10)) #Suma de las monedas tomadas - (cantidad acumulada de la penalizacion + 10% cantidad acumulada de la penalización)"
      ],
      "metadata": {
        "id": "0kUJeIMi07G4"
      },
      "execution_count": 29,
      "outputs": []
    },
    {
      "cell_type": "code",
      "source": [
        "def main():\n",
        "    monedas = [  1, 20,  5, 1,  2,  5, 5,  1,  5,  2,  2,  1, 10, 5, 10,  5, 20, 20, 20,  5,  1,  1, 20,\n",
        "                20,  1, 10, 2, 10,  5, 2, 10,  1, 20,  1, 20, 10, 5,  5, 20,  2, 10,  1,  2,  5, 10, 20,\n",
        "                10,  2,  5, 5, 20,  1, 1,  5, 10, 10, 10,  1,  5, 2,  1,  2, 10, 20,  2, 10, 10, 20,  5,\n",
        "                10,  1,  2, 1,  5, 20, 2,  5,  1, 5, 10, 2, 5, 10, 2, 1, 1, 1, 10, 20, 10, 20, 2, 2, 10,\n",
        "                20, 10, 1, 1, 5, 2 ]\n",
        "    filaMonedas = Monedas(monedas)\n",
        "    alelos = len(monedas)\n",
        "    individuos = 32\n",
        "    tamano_gen = 1 #cada bit representa una moneda tomada\n",
        "    generaciones = 2000\n",
        "    factor_mutacion = 0.01\n",
        "    ag = AG(individuos, alelos, tamano_gen, generaciones, factor_mutacion, filaMonedas)\n",
        "    ag.run()\n",
        "main()"
      ],
      "metadata": {
        "id": "_PrLiz8H30tx"
      },
      "execution_count": null,
      "outputs": []
    },
    {
      "cell_type": "code",
      "source": [
        "#----Para probar si los resultados tienen sentido----\n",
        "arr = [0, 1, 0, 0, 1, 0, 1, 0, 1, 0, 1, 0, 1, 0, 1, 0, 1, 0, 1, 0, 0, 1, 0, 1, 0, 1, 0, 1, 0, 0, 1, 0, 1, 0, 1, 0, 1,\n",
        " 0, 1, 0, 1, 0, 0, 1, 0, 1, 0, 0, 1, 0, 1, 0, 1, 0, 1, 0, 1, 0, 1, 0, 0, 1, 0, 1, 0, 1, 0, 1, 0, 1, 0, 1, 0, 0,\n",
        " 1, 0, 1, 0, 0, 1, 0, 0, 1, 0, 1, 0, 1, 0, 1, 0, 1, 0, 1, 0, 1, 0, 1, 0, 1, 0,]\n",
        "input = [  1, 20,  5, 1,  2,  5, 5,  1,  5,  2,  2,  1, 10, 5, 10,  5, 20, 20, 20,  5,  1,  1, 20,\n",
        "                20,  1, 10, 2, 10,  5, 2, 10,  1, 20,  1, 20, 10, 5,  5, 20,  2, 10,  1,  2,  5, 10, 20,\n",
        "                10,  2,  5, 5, 20,  1, 1,  5, 10, 10, 10,  1,  5, 2,  1,  2, 10, 20,  2, 10, 10, 20,  5,\n",
        "                10,  1,  2, 1,  5, 20, 2,  5,  1, 5, 10, 2, 5, 10, 2, 1, 1, 1, 10, 20, 10, 20, 2, 2, 10,\n",
        "                20, 10, 1, 1, 5, 2 ]\n",
        "arregloPosiciones = []\n",
        "arregloValores = []\n",
        "total = 0\n",
        "for i, tomada in enumerate(arr):\n",
        "  if(tomada == 1):\n",
        "    arregloPosiciones.append(i)\n",
        "    arregloValores.append(input[i])\n",
        "    total += input[i]\n",
        "print(f'Tamaño del arreglo de salida: {len(arr)}\\nTamaño del arreglo de entrada: {len(input)}')\n",
        "print(f'Tamaño del arreglo de posiciones: {len(arregloPosiciones)}\\nTamaño del arreglo de valores: {len(arregloValores)}')\n",
        "print(f'Posiciones: {arregloPosiciones}\\nValores: {arregloValores}\\nTotal: {total}')\n"
      ],
      "metadata": {
        "id": "vnOESb4HEfbi"
      },
      "execution_count": null,
      "outputs": []
    }
  ]
}